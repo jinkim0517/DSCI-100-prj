{
 "cells": [
  {
   "cell_type": "markdown",
   "id": "95d13850-6730-473e-b199-ac6b81a5e134",
   "metadata": {},
   "source": [
    "# Project Proposal: Group 59\n",
    "### Jin Kim, Emily Ishii, Natasha Larin, Syed Haque"
   ]
  },
  {
   "cell_type": "markdown",
   "id": "243e2029-0621-43ce-ac35-dc74b542f11b",
   "metadata": {},
   "source": [
    "### Introduction\n",
    "\n",
    "For our DSCI 100 Project, our group will be using the data found in the \"processed.cleveland.data\" file in the Heart Disease dataset directory. This dataset is composed of 14 fields:\n",
    "\n",
    "* Age of patient (age) - years\n",
    "* Sex of the patient (sex)\n",
    "    * 1 = Male\n",
    "    * 2 = Female\n",
    "* Chest pain type (cp)\n",
    "    * 1 = Typical Angina\n",
    "    * 2 = Atypical Angina\n",
    "    * 3 = Non-aginal Pain\n",
    "    * 4 = Asymptomatic\n",
    "* Blood preassure (trestbps) - mm Hg\n",
    "* Serum cholestoral (chol) - mg/dl\n",
    "* Fasting blood sugar > 120 mg/dl (fbs) - true or false\n",
    "* Resting ECG results (restecg)\n",
    "    * 0 = Normal\n",
    "    * 1 = Abnormal\n",
    "    * 2 = Probable or definite left ventricular hypertrophy\n",
    "* Maximum heart rate achieved (thalach) - bpm\n",
    "* Excercize induced agina (exang)\n",
    "    * 0 = No\n",
    "    * 1 = Yes\n",
    "* Depression induced by excercize related to rest (oldpeak)\n",
    "* Slope of the peake excercise segment (slope)\n",
    "* Number of major vessels (ca)\n",
    "* Condition (thal)\n",
    "    * 3 = Normal\n",
    "    * 6 = fixed defect\n",
    "    * 7 = reversable defect\n",
    "* Diagnosis of heart disease (num)\n",
    "    * idk what the numbers mean\n",
    "    \n",
    "These fields are parts of a patient's health report, so they can be used to predict the severity or existence of heart disease within a patient, which is what variable **num** represents.\n",
    "\n",
    "The question that we will be exploring is: **Which factors are most influential towards the cause of heart disease?**"
   ]
  },
  {
   "cell_type": "markdown",
   "id": "ef043b7e-ec72-4de1-bf7e-efab6e9cb932",
   "metadata": {},
   "source": [
    "### Preliminary Exploratory Data Analysis"
   ]
  },
  {
   "cell_type": "code",
   "execution_count": null,
   "id": "716059ad-d65b-48be-8047-75041590a23c",
   "metadata": {},
   "outputs": [
    {
     "name": "stderr",
     "output_type": "stream",
     "text": [
      "── \u001b[1mAttaching packages\u001b[22m ─────────────────────────────────────── tidyverse 1.3.1 ──\n",
      "\n",
      "\u001b[32m✔\u001b[39m \u001b[34mggplot2\u001b[39m 3.3.6     \u001b[32m✔\u001b[39m \u001b[34mpurrr  \u001b[39m 0.3.4\n",
      "\u001b[32m✔\u001b[39m \u001b[34mtibble \u001b[39m 3.1.7     \u001b[32m✔\u001b[39m \u001b[34mdplyr  \u001b[39m 1.0.9\n",
      "\u001b[32m✔\u001b[39m \u001b[34mtidyr  \u001b[39m 1.2.0     \u001b[32m✔\u001b[39m \u001b[34mstringr\u001b[39m 1.4.0\n",
      "\u001b[32m✔\u001b[39m \u001b[34mreadr  \u001b[39m 2.1.2     \u001b[32m✔\u001b[39m \u001b[34mforcats\u001b[39m 0.5.1\n",
      "\n",
      "── \u001b[1mConflicts\u001b[22m ────────────────────────────────────────── tidyverse_conflicts() ──\n",
      "\u001b[31m✖\u001b[39m \u001b[34mdplyr\u001b[39m::\u001b[32mfilter()\u001b[39m masks \u001b[34mstats\u001b[39m::filter()\n",
      "\u001b[31m✖\u001b[39m \u001b[34mdplyr\u001b[39m::\u001b[32mlag()\u001b[39m    masks \u001b[34mstats\u001b[39m::lag()\n",
      "\n",
      "── \u001b[1mAttaching packages\u001b[22m ────────────────────────────────────── tidymodels 1.0.0 ──\n",
      "\n",
      "\u001b[32m✔\u001b[39m \u001b[34mbroom       \u001b[39m 1.0.0     \u001b[32m✔\u001b[39m \u001b[34mrsample     \u001b[39m 1.0.0\n",
      "\u001b[32m✔\u001b[39m \u001b[34mdials       \u001b[39m 1.0.0     \u001b[32m✔\u001b[39m \u001b[34mtune        \u001b[39m 1.0.0\n",
      "\u001b[32m✔\u001b[39m \u001b[34minfer       \u001b[39m 1.0.2     \u001b[32m✔\u001b[39m \u001b[34mworkflows   \u001b[39m 1.0.0\n",
      "\u001b[32m✔\u001b[39m \u001b[34mmodeldata   \u001b[39m 1.0.0     \u001b[32m✔\u001b[39m \u001b[34mworkflowsets\u001b[39m 1.0.0\n",
      "\u001b[32m✔\u001b[39m \u001b[34mparsnip     \u001b[39m 1.0.0     \u001b[32m✔\u001b[39m \u001b[34myardstick   \u001b[39m 1.0.0\n",
      "\u001b[32m✔\u001b[39m \u001b[34mrecipes     \u001b[39m 1.0.1     \n",
      "\n",
      "── \u001b[1mConflicts\u001b[22m ───────────────────────────────────────── tidymodels_conflicts() ──\n",
      "\u001b[31m✖\u001b[39m \u001b[34mscales\u001b[39m::\u001b[32mdiscard()\u001b[39m masks \u001b[34mpurrr\u001b[39m::discard()\n",
      "\u001b[31m✖\u001b[39m \u001b[34mdplyr\u001b[39m::\u001b[32mfilter()\u001b[39m   masks \u001b[34mstats\u001b[39m::filter()\n",
      "\u001b[31m✖\u001b[39m \u001b[34mrecipes\u001b[39m::\u001b[32mfixed()\u001b[39m  masks \u001b[34mstringr\u001b[39m::fixed()\n",
      "\u001b[31m✖\u001b[39m \u001b[34mdplyr\u001b[39m::\u001b[32mlag()\u001b[39m      masks \u001b[34mstats\u001b[39m::lag()\n",
      "\u001b[31m✖\u001b[39m \u001b[34myardstick\u001b[39m::\u001b[32mspec()\u001b[39m masks \u001b[34mreadr\u001b[39m::spec()\n",
      "\u001b[31m✖\u001b[39m \u001b[34mrecipes\u001b[39m::\u001b[32mstep()\u001b[39m   masks \u001b[34mstats\u001b[39m::step()\n",
      "\u001b[34m•\u001b[39m Dig deeper into tidy modeling with R at \u001b[32mhttps://www.tmwr.org\u001b[39m\n",
      "\n"
     ]
    }
   ],
   "source": [
    "library(tidyverse)\n",
    "library(repr)\n",
    "library(tidymodels)"
   ]
  },
  {
   "cell_type": "markdown",
   "id": "8a4734e8-a927-42df-b82e-8bb9bdf8dd5f",
   "metadata": {},
   "source": [
    "**Reading in, tidying, and splitting the dataset**"
   ]
  },
  {
   "cell_type": "code",
   "execution_count": 11,
   "id": "547711d0-4824-4290-ac13-af0bfa384c5f",
   "metadata": {},
   "outputs": [
    {
     "name": "stderr",
     "output_type": "stream",
     "text": [
      "\u001b[1mRows: \u001b[22m\u001b[34m303\u001b[39m \u001b[1mColumns: \u001b[22m\u001b[34m14\u001b[39m\n",
      "\u001b[36m──\u001b[39m \u001b[1mColumn specification\u001b[22m \u001b[36m────────────────────────────────────────────────────────\u001b[39m\n",
      "\u001b[1mDelimiter:\u001b[22m \",\"\n",
      "\u001b[31mchr\u001b[39m  (2): ca, thal\n",
      "\u001b[32mdbl\u001b[39m (12): age, sex, cp, trestbps, chol, fbs, restecg, thalach, exang, oldpea...\n",
      "\n",
      "\u001b[36mℹ\u001b[39m Use `spec()` to retrieve the full column specification for this data.\n",
      "\u001b[36mℹ\u001b[39m Specify the column types or set `show_col_types = FALSE` to quiet this message.\n"
     ]
    }
   ],
   "source": [
    "names <- c(\"age\", \"sex\", \"cp\", \"trestbps\", \"chol\", \"fbs\", \"restecg\", \"thalach\", \"exang\", \"oldpeak\", \"slope\", \"ca\", \"thal\", \"num\")\n",
    "patient_data <- read_csv(\"data/processed.cleveland.data\", col_names = names) |>\n",
    "    mutate(num = as_factor(num)) |>\n",
    "    mutate(cp = as_factor(cp)) |>\n",
    "    mutate(sex = as_factor(sex)) |>\n",
    "    mutate(exang = as_factor(exang)) |>\n",
    "    mutate(slope = as_factor(slope)) |>\n",
    "    mutate(restecg = as_factor(restecg)) |>\n",
    "    mutate(ca = as_factor(ca)) |>\n",
    "    mutate(thal = as_factor(thal)) |>\n",
    "    mutate(fbs = as.logical(fbs)) |>\n",
    "    select(age, trestbps, chol, thalach, oldpeak, num) # Since we are classifying using these variables, we should select only continuous variables (data of type double)\n",
    "patient_split <- initial_split(patient_data, prop = 0.75, strata = num)\n",
    "training_data <- training(patient_split)\n",
    "testing_data <- testing(patient_split)"
   ]
  },
  {
   "cell_type": "markdown",
   "id": "3366420b-42a8-4d9e-92b3-7790b6c821d5",
   "metadata": {},
   "source": [
    "**Summarizing the training dataset**"
   ]
  },
  {
   "cell_type": "code",
   "execution_count": 12,
   "id": "88148b74-0f5a-4bc6-b849-6cc7ff186e7e",
   "metadata": {},
   "outputs": [
    {
     "data": {
      "text/html": [
       "<table class=\"dataframe\">\n",
       "<caption>A tibble: 5 × 4</caption>\n",
       "<thead>\n",
       "\t<tr><th scope=col>predictor</th><th scope=col>max</th><th scope=col>min</th><th scope=col>mean</th></tr>\n",
       "\t<tr><th scope=col>&lt;chr&gt;</th><th scope=col>&lt;dbl&gt;</th><th scope=col>&lt;dbl&gt;</th><th scope=col>&lt;dbl&gt;</th></tr>\n",
       "</thead>\n",
       "<tbody>\n",
       "\t<tr><td>age     </td><td> 77.0</td><td> 29</td><td> 54.475556</td></tr>\n",
       "\t<tr><td>trestbps</td><td>200.0</td><td>100</td><td>131.684444</td></tr>\n",
       "\t<tr><td>chol    </td><td>564.0</td><td>126</td><td>249.075556</td></tr>\n",
       "\t<tr><td>thalach </td><td>202.0</td><td> 71</td><td>149.848889</td></tr>\n",
       "\t<tr><td>oldpeak </td><td>  6.2</td><td>  0</td><td>  1.011556</td></tr>\n",
       "</tbody>\n",
       "</table>\n"
      ],
      "text/latex": [
       "A tibble: 5 × 4\n",
       "\\begin{tabular}{llll}\n",
       " predictor & max & min & mean\\\\\n",
       " <chr> & <dbl> & <dbl> & <dbl>\\\\\n",
       "\\hline\n",
       "\t age      &  77.0 &  29 &  54.475556\\\\\n",
       "\t trestbps & 200.0 & 100 & 131.684444\\\\\n",
       "\t chol     & 564.0 & 126 & 249.075556\\\\\n",
       "\t thalach  & 202.0 &  71 & 149.848889\\\\\n",
       "\t oldpeak  &   6.2 &   0 &   1.011556\\\\\n",
       "\\end{tabular}\n"
      ],
      "text/markdown": [
       "\n",
       "A tibble: 5 × 4\n",
       "\n",
       "| predictor &lt;chr&gt; | max &lt;dbl&gt; | min &lt;dbl&gt; | mean &lt;dbl&gt; |\n",
       "|---|---|---|---|\n",
       "| age      |  77.0 |  29 |  54.475556 |\n",
       "| trestbps | 200.0 | 100 | 131.684444 |\n",
       "| chol     | 564.0 | 126 | 249.075556 |\n",
       "| thalach  | 202.0 |  71 | 149.848889 |\n",
       "| oldpeak  |   6.2 |   0 |   1.011556 |\n",
       "\n"
      ],
      "text/plain": [
       "  predictor max   min mean      \n",
       "1 age        77.0  29  54.475556\n",
       "2 trestbps  200.0 100 131.684444\n",
       "3 chol      564.0 126 249.075556\n",
       "4 thalach   202.0  71 149.848889\n",
       "5 oldpeak     6.2   0   1.011556"
      ]
     },
     "metadata": {},
     "output_type": "display_data"
    }
   ],
   "source": [
    "data_mean <- training_data |>\n",
    "    select(-num) |>\n",
    "    map_df(mean) |>\n",
    "    pivot_longer(cols = age:oldpeak,\n",
    "               names_to = \"predictor\",\n",
    "               values_to = \"mean\") |>\n",
    "    select(-predictor)\n",
    "data_max <- training_data |>\n",
    "    select(-num) |>\n",
    "    map_df(max) |>\n",
    "    pivot_longer(cols = age:oldpeak,\n",
    "               names_to = \"predictor\",\n",
    "               values_to = \"max\")\n",
    "data_min <- training_data |>\n",
    "    select(-num) |>\n",
    "    map_df(min) |>\n",
    "    pivot_longer(cols = age:oldpeak,\n",
    "               names_to = \"predictor\",\n",
    "               values_to = \"min\") |>\n",
    "    select(-predictor)\n",
    "training_data_summary <- bind_cols(data_max, data_min, data_mean)\n",
    "training_data_summary"
   ]
  },
  {
   "cell_type": "markdown",
   "id": "e3b159e2-d284-46eb-bc2f-e86bfc3430b3",
   "metadata": {},
   "source": [
    "**Visualizing the training dataset**"
   ]
  },
  {
   "cell_type": "code",
   "execution_count": 13,
   "id": "7efc39fa-d8f1-446e-85c2-ad395ae640b3",
   "metadata": {},
   "outputs": [],
   "source": [
    "# Code for histogram visualization of each variable (probably should use facet_grid())"
   ]
  },
  {
   "cell_type": "markdown",
   "id": "46877ed4-e451-4d0d-86ea-249d69ab15c3",
   "metadata": {},
   "source": [
    "### Methods\n",
    "\n",
    "How will we conduct our data analysis?\n",
    "* Include prediciton/classification\n",
    "* Analyze the behaviour of each variable\n",
    "* Create a prediction model based on the information above\n",
    "    * Evaluate the accuracy: If it is fairly accurate then those variables are the answer to our main question!\n",
    "* Use visualizations! Maybe just 1 or 2?\n",
    "    * I think we should visualize the data for the actual training data, and then on the same plot visualize what our prediction model predicts to compare the differences (hopefully its not that different)"
   ]
  },
  {
   "cell_type": "markdown",
   "id": "e9ae905d-a0f7-43c8-9321-0309783e7f97",
   "metadata": {},
   "source": [
    "### Expected outcomes and significance"
   ]
  },
  {
   "cell_type": "markdown",
   "id": "2f3fc3a0-2385-4acf-a050-153e01b1654b",
   "metadata": {},
   "source": [
    "What do we expect to find?\n",
    "* All of the predictor variables that we used are important/influencial to determining if a patient has heart disease\n",
    "Impacts of our findings:\n",
    "* If our model is fairly good, then we can predict if a patient has a disease so that they may seek help immediately.\n",
    "* However, our model will undoubtedly be less than 100% accurate, so instead of it being a complete scientific diagnosis, it can act as an indicator for concern (spark suspicion concerning the patient's health).\n",
    "Future questions?\n",
    "* What other variables could increase the accuracy of this model?\n",
    "* Can this model be used to predict other health problems?\n",
    "* How can we incorporate categoric variables into a prediction model? "
   ]
  },
  {
   "cell_type": "code",
   "execution_count": null,
   "id": "6a220dab-465d-45ae-b56a-924bac1fdf49",
   "metadata": {},
   "outputs": [],
   "source": []
  }
 ],
 "metadata": {
  "kernelspec": {
   "display_name": "R",
   "language": "R",
   "name": "ir"
  },
  "language_info": {
   "codemirror_mode": "r",
   "file_extension": ".r",
   "mimetype": "text/x-r-source",
   "name": "R",
   "pygments_lexer": "r",
   "version": "4.1.3"
  }
 },
 "nbformat": 4,
 "nbformat_minor": 5
}
