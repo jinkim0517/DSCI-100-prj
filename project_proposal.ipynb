{
 "cells": [
  {
   "cell_type": "markdown",
   "id": "95d13850-6730-473e-b199-ac6b81a5e134",
   "metadata": {},
   "source": [
    "# Project Proposal: Group 59\n",
    "### Jin Kim, Emily Ishii, Natasha Larin, Syed Haque"
   ]
  },
  {
   "cell_type": "markdown",
   "id": "243e2029-0621-43ce-ac35-dc74b542f11b",
   "metadata": {},
   "source": [
    "### Introduction\n",
    "For our project, we have chosen the dataset User Knowledge, by Hamdi tolga Kahraman. This dataset is composed of six distinct variables: STG, SCG, STR, LPR, PEG, and UNS.\n",
    "* STG represents the degree of study time for goal object materials\n",
    "* SCG represents the degree of repetition for goal object materials\n",
    "* STR represents the degree of study time of user for related objects with goal object\n",
    "* LPR represents the exam preformance of user for related object with goal object\n",
    "* PEG represents the exam preformance of user for goal object\n",
    "* UNS represents the knowledge level of the user\n",
    "\n",
    "**UNS is one of 4 categories**\n",
    "* Very Low\n",
    "* Low\n",
    "* Middle\n",
    "* High \n",
    "\n",
    "**All data is scaled out of 1**\n",
    "\n",
    "General data logistics:\n",
    "* Total Number of Instances: 403\n",
    "* Area: Education\n",
    "* Attribute Characteristics: Real\n",
    "* Number of Attributes: 5\n",
    "* Associated Tasks: Classification"
   ]
  },
  {
   "cell_type": "markdown",
   "id": "ef043b7e-ec72-4de1-bf7e-efab6e9cb932",
   "metadata": {},
   "source": [
    "### Reading the dataset into R"
   ]
  },
  {
   "cell_type": "code",
   "execution_count": null,
   "id": "716059ad-d65b-48be-8047-75041590a23c",
   "metadata": {},
   "outputs": [],
   "source": [
    "library(tidyverse)\n",
    "library(repr)\n",
    "library(tidymodels)\n",
    "library(readxl)"
   ]
  },
  {
   "cell_type": "code",
   "execution_count": 14,
   "id": "1cd6f0c7-ffab-4b62-86e8-438e505a4c22",
   "metadata": {},
   "outputs": [
    {
     "name": "stderr",
     "output_type": "stream",
     "text": [
      "\u001b[1m\u001b[22mNew names:\n",
      "\u001b[36m•\u001b[39m `` -> `...7`\n",
      "\u001b[36m•\u001b[39m `` -> `...8`\n",
      "\u001b[1m\u001b[22mNew names:\n",
      "\u001b[36m•\u001b[39m `` -> `...7`\n",
      "\u001b[36m•\u001b[39m `` -> `...8`\n"
     ]
    }
   ],
   "source": [
    "train_data <- read_excel(\"data/user_knowledge_data.xls\", sheet = 2) |>\n",
    "    select(STG, SCG, STR, LPR, PEG, UNS) |>\n",
    "    mutate(UNS = as_factor(UNS))\n",
    "test_data <- read_excel(\"data/user_knowledge_data.xls\", sheet = 3) |>\n",
    "    select(STG, SCG, STR, LPR, PEG, UNS) |>\n",
    "    mutate(UNS = as_factor(UNS))"
   ]
  },
  {
   "cell_type": "code",
   "execution_count": null,
   "id": "7239cfc7-03ca-4fa9-9db1-4d13d610178b",
   "metadata": {},
   "outputs": [],
   "source": []
  }
 ],
 "metadata": {
  "kernelspec": {
   "display_name": "R",
   "language": "R",
   "name": "ir"
  },
  "language_info": {
   "codemirror_mode": "r",
   "file_extension": ".r",
   "mimetype": "text/x-r-source",
   "name": "R",
   "pygments_lexer": "r",
   "version": "4.1.3"
  }
 },
 "nbformat": 4,
 "nbformat_minor": 5
}
